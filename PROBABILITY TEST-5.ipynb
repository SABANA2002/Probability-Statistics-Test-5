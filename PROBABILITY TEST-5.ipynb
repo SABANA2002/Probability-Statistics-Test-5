{
 "cells": [
  {
   "cell_type": "markdown",
   "id": "2f9f157b",
   "metadata": {},
   "source": [
    "<h3>QUESTION 1</h3>"
   ]
  },
  {
   "cell_type": "markdown",
   "id": "2715da4c",
   "metadata": {},
   "source": [
    "<h6>There are 13 diamond cards in a deck of 52 cards.<br>\n",
    "let p(a) be probability of getting a diamond card in first drawn.<br>\n",
    "let p(b) be probability of getting a heart card in Second drawn(card is not replaced).<br>\n",
    "let p(c) be probability of getting a spade card in third drawn(card is not replaced)</h6>"
   ]
  },
  {
   "cell_type": "code",
   "execution_count": 10,
   "id": "658ed2ac",
   "metadata": {},
   "outputs": [
    {
     "name": "stdout",
     "output_type": "stream",
     "text": [
      "Total Probability is: 0.01656862745098039\n"
     ]
    }
   ],
   "source": [
    "pa=13/52\n",
    "pb=13/51\n",
    "pc=13/50\n",
    "print(\"Total Probability is:\",pa*pb*pc)"
   ]
  },
  {
   "cell_type": "markdown",
   "id": "d0817d0b",
   "metadata": {},
   "source": [
    "<h3>QUESTION 2</h3>"
   ]
  },
  {
   "cell_type": "markdown",
   "id": "52dede96",
   "metadata": {},
   "source": [
    "<h6>let p(a) be probability of respondents likes action movies.<br>\n",
    "let p(b) be probability of respondents likes comedy movies.<br>\n",
    "let p(c) be probability of respondents likes drama movies.<br>\n",
    "let p(d) be probability of respondents likes horror movies.<br>\n",
    "let p(A) be probability of respondents likes either action or drama.<br>\n",
    "let p(B) be probability of respondents likes either comedy or horror</h6>"
   ]
  },
  {
   "cell_type": "code",
   "execution_count": 12,
   "id": "0f70caf5",
   "metadata": {},
   "outputs": [
    {
     "name": "stdout",
     "output_type": "stream",
     "text": [
      "Probability of favourite movie type is either action or drama: 0.78\n",
      "Probability of favourite movie type is either comedy or horror: 0.66\n"
     ]
    }
   ],
   "source": [
    "pa=42/100\n",
    "pb=54/100\n",
    "pc=36/100\n",
    "pd=12/100\n",
    "pA=pa+pc\n",
    "pB=pb+pd\n",
    "print(\"Probability of favourite movie type is either action or drama:\",pA)\n",
    "print(\"Probability of favourite movie type is either comedy or horror:\",pB)"
   ]
  },
  {
   "cell_type": "markdown",
   "id": "b1fd736b",
   "metadata": {},
   "source": [
    "<h3>QUESTION 3</h3>"
   ]
  },
  {
   "cell_type": "markdown",
   "id": "81809b82",
   "metadata": {},
   "source": [
    "<h6>Bag A cotains 3 red and 5 black balls<br>\n",
    "Bag B contains 4 white and 7 black balls<br>\n",
    "let P(B/A) be probability of black balls from bag A<br>\n",
    "let P(B/B) be probability of black balls from bag B</h6>\n"
   ]
  },
  {
   "cell_type": "markdown",
   "id": "9ae17036",
   "metadata": {},
   "source": [
    "P(A)=P(B)=1/2<br>\n",
    "P(B/A)=5/8<br>\n",
    "P(B/B)=7/11<br>\n",
    "Total probability that bag B was selected=(P(B)*P(B/B))/(P(A)*P(B/A)+P(B)*P(B/B))<br>\n",
    "                                         =(1/2 *7/11)  /(1/2*5/8   +1/2 *7/11)<br>\n",
    "                                         =(7/22)  /  (5/8 + 5/16)<br>\n",
    "                                         =28/55<br>\n",
    "                                         =0.509"
   ]
  },
  {
   "cell_type": "markdown",
   "id": "f42c9e0d",
   "metadata": {},
   "source": [
    "<h3>QUESTION 4</h3>"
   ]
  },
  {
   "cell_type": "markdown",
   "id": "25d29c8a",
   "metadata": {},
   "source": [
    "450 application in 1 hour(BY POISSON DISTRIBUTION)\n",
    "a)Receiving 10 applications in 1 minute\n",
    "      λ=450/60\n",
    "      λ=15/2,x=10\n",
    "      \n",
    "                  e**(-15/2) . (15/2)**10\n",
    "     P(X=x) =  --------------------------------\n",
    "                           10!\n",
    "                           \n",
    "            =  0.0858\n",
    "b)Receiving atleast 17 applications in 2 minutes\n",
    "         x=17\n",
    "\n",
    "                    e**(-15/2) . (15/2)**17\n",
    "     P(X=x) =  --------------------------------\n",
    "                           17!\n",
    "                           \n",
    "            =  0.6321"
   ]
  },
  {
   "cell_type": "markdown",
   "id": "ca73ea6b",
   "metadata": {},
   "source": [
    "<h3>QUESTION 5</h3>"
   ]
  },
  {
   "cell_type": "code",
   "execution_count": null,
   "id": "878e4dcc",
   "metadata": {},
   "outputs": [],
   "source": []
  },
  {
   "cell_type": "markdown",
   "id": "3308d313",
   "metadata": {},
   "source": [
    "<h3>QUESTION 6</h3>"
   ]
  },
  {
   "cell_type": "markdown",
   "id": "f529156d",
   "metadata": {},
   "source": [
    "z=(x-μ)/σ<br>\n",
    "0.675=(x-350870)/12405<br>\n",
    "x=350870+(0.675*12405)<br>\n",
    "x=359237.045<br>\n",
    "75th percentile=359237.045"
   ]
  },
  {
   "cell_type": "markdown",
   "id": "4d057320",
   "metadata": {},
   "source": [
    "<h3>QUESTION 7</h3>"
   ]
  },
  {
   "cell_type": "code",
   "execution_count": 1,
   "id": "778d5a61",
   "metadata": {},
   "outputs": [
    {
     "name": "stdout",
     "output_type": "stream",
     "text": [
      "F-STATISTIC is  : 0.9921235138705414\n"
     ]
    }
   ],
   "source": [
    "UC=[44,21,36,34,77,32,29,39,92,67,45,37]\n",
    "MV=[47,81,41,79,38,20,33,83,41,40,69,36]\n",
    "import numpy as np\n",
    "x = np.array(UC)\n",
    "y = np.array(MV)\n",
    "f = np.var(x, ddof=1)/np.var(y, ddof=1)\n",
    "print(\"F-STATISTIC is  :\",f)"
   ]
  },
  {
   "cell_type": "markdown",
   "id": "2647c36d",
   "metadata": {},
   "source": [
    "<h3>QUESTION 9</h3>"
   ]
  },
  {
   "cell_type": "code",
   "execution_count": 17,
   "id": "651ed6ab",
   "metadata": {},
   "outputs": [
    {
     "name": "stdout",
     "output_type": "stream",
     "text": [
      "0.040177141568228006\n"
     ]
    }
   ],
   "source": [
    "from scipy.stats import poisson\n",
    "probability=poisson.pmf(k=80,mu=76)\n",
    "print(probability)"
   ]
  },
  {
   "cell_type": "code",
   "execution_count": null,
   "id": "224d7cd1",
   "metadata": {},
   "outputs": [],
   "source": []
  }
 ],
 "metadata": {
  "kernelspec": {
   "display_name": "Python 3 (ipykernel)",
   "language": "python",
   "name": "python3"
  },
  "language_info": {
   "codemirror_mode": {
    "name": "ipython",
    "version": 3
   },
   "file_extension": ".py",
   "mimetype": "text/x-python",
   "name": "python",
   "nbconvert_exporter": "python",
   "pygments_lexer": "ipython3",
   "version": "3.9.7"
  }
 },
 "nbformat": 4,
 "nbformat_minor": 5
}

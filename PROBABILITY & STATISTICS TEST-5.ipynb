{
 "cells": [
  {
   "cell_type": "markdown",
   "id": "2f9f157b",
   "metadata": {},
   "source": [
    "<h3>QUESTION 1</h3>"
   ]
  },
  {
   "cell_type": "markdown",
   "id": "2715da4c",
   "metadata": {},
   "source": [
    "<h6>There are 13 diamond cards in a deck of 52 cards.<br>\n",
    "let p(a) be probability of getting a diamond card in first drawn.<br>\n",
    "let p(b) be probability of getting a heart card in Second drawn(card is not replaced).<br>\n",
    "let p(c) be probability of getting a spade card in third drawn(card is not replaced)</h6>"
   ]
  },
  {
   "cell_type": "code",
   "execution_count": 10,
   "id": "658ed2ac",
   "metadata": {},
   "outputs": [
    {
     "name": "stdout",
     "output_type": "stream",
     "text": [
      "Total Probability is: 0.01656862745098039\n"
     ]
    }
   ],
   "source": [
    "pa=13/52\n",
    "pb=13/51\n",
    "pc=13/50\n",
    "print(\"Total Probability is:\",pa*pb*pc)"
   ]
  },
  {
   "cell_type": "markdown",
   "id": "d0817d0b",
   "metadata": {},
   "source": [
    "<h3>QUESTION 2</h3>"
   ]
  },
  {
   "cell_type": "markdown",
   "id": "52dede96",
   "metadata": {},
   "source": [
    "<h6>let p(a) be probability of respondents likes action movies.<br>\n",
    "let p(b) be probability of respondents likes comedy movies.<br>\n",
    "let p(c) be probability of respondents likes drama movies.<br>\n",
    "let p(d) be probability of respondents likes horror movies.<br>\n",
    "let p(A) be probability of respondents likes either action or drama.<br>\n",
    "let p(B) be probability of respondents likes either comedy or horror</h6>"
   ]
  },
  {
   "cell_type": "code",
   "execution_count": 1,
   "id": "0f70caf5",
   "metadata": {},
   "outputs": [
    {
     "name": "stdout",
     "output_type": "stream",
     "text": [
      "Probability of favourite movie type is either action or drama: 0.6288\n",
      "Probability of favourite movie type is either comedy or horror: 0.5952000000000001\n"
     ]
    }
   ],
   "source": [
    "pa=42/100\n",
    "pb=54/100\n",
    "pc=36/100\n",
    "pd=12/100\n",
    "pA=pa+pc-pa*pc\n",
    "pB=pb+pd-pb*pd\n",
    "print(\"Probability of favourite movie type is either action or drama:\",pA)\n",
    "print(\"Probability of favourite movie type is either comedy or horror:\",pB)"
   ]
  },
  {
   "cell_type": "markdown",
   "id": "b1fd736b",
   "metadata": {},
   "source": [
    "<h3>QUESTION 3</h3>"
   ]
  },
  {
   "cell_type": "code",
   "execution_count": 16,
   "id": "7ed163d4",
   "metadata": {},
   "outputs": [
    {
     "name": "stdout",
     "output_type": "stream",
     "text": [
      "GIVEN: \n"
     ]
    },
    {
     "data": {
      "text/html": [
       "<div>\n",
       "<style scoped>\n",
       "    .dataframe tbody tr th:only-of-type {\n",
       "        vertical-align: middle;\n",
       "    }\n",
       "\n",
       "    .dataframe tbody tr th {\n",
       "        vertical-align: top;\n",
       "    }\n",
       "\n",
       "    .dataframe thead th {\n",
       "        text-align: right;\n",
       "    }\n",
       "</style>\n",
       "<table border=\"1\" class=\"dataframe\">\n",
       "  <thead>\n",
       "    <tr style=\"text-align: right;\">\n",
       "      <th></th>\n",
       "      <th>Bag A</th>\n",
       "      <th>Bag B</th>\n",
       "    </tr>\n",
       "  </thead>\n",
       "  <tbody>\n",
       "    <tr>\n",
       "      <th>0</th>\n",
       "      <td>3 Red Ball</td>\n",
       "      <td>4 White Ball</td>\n",
       "    </tr>\n",
       "    <tr>\n",
       "      <th>1</th>\n",
       "      <td>5 Black Ball</td>\n",
       "      <td>7 Black Ball</td>\n",
       "    </tr>\n",
       "  </tbody>\n",
       "</table>\n",
       "</div>"
      ],
      "text/plain": [
       "          Bag A         Bag B\n",
       "0    3 Red Ball  4 White Ball\n",
       "1  5 Black Ball  7 Black Ball"
      ]
     },
     "execution_count": 16,
     "metadata": {},
     "output_type": "execute_result"
    }
   ],
   "source": [
    "print(\"GIVEN: \")\n",
    "import pandas as pd\n",
    "bag = pd.DataFrame(columns = [\"Bag A\", \"Bag B\"])\n",
    "bag.loc[0,\"Bag A\"] = \"3 Red Ball\"\n",
    "bag.loc[0,\"Bag B\"] = \"4 White Ball\"\n",
    "bag.loc[1,\"Bag A\"] = \"5 Black Ball\"\n",
    "bag.loc[1,\"Bag B\"] = \"7 Black Ball\"\n",
    "bag.head()"
   ]
  },
  {
   "cell_type": "markdown",
   "id": "919d4514",
   "metadata": {},
   "source": [
    "Solution:<br>\n",
    "    Probability of black ball in Bag A = 5/8 = 0.625<br>\n",
    "    Probability of black ball in Bag B = 7/11 = 0.636<br>\n",
    "    By Naive Bayes theorem,<br>\n",
    "        P(B/B)= (p(B)*p(B/B)) / (p(A)*p(B/A)+p(B)*p(B/B))<br>\n",
    "              =( 1/2 * 7/11) / ((1/2 * 5/8)+( 1/2 * 7/11))<br>\n",
    "              =0.50450"
   ]
  },
  {
   "cell_type": "markdown",
   "id": "f42c9e0d",
   "metadata": {},
   "source": [
    "<h3>QUESTION 4</h3>"
   ]
  },
  {
   "cell_type": "code",
   "execution_count": 15,
   "id": "6be05df6",
   "metadata": {},
   "outputs": [
    {
     "name": "stdout",
     "output_type": "stream",
     "text": [
      "Probability of 450 application in one hour = 450/60 =7.5\n",
      "Probability of 10 application in one minute=  0.086\n",
      "Probability of getting atleast 17 application in two minute=  0.001\n"
     ]
    }
   ],
   "source": [
    "print(\"Probability of 450 application in one hour = 450/60 =7.5\")\n",
    "from scipy.stats import poisson\n",
    "PA=poisson.pmf(k=10, mu=7.5)\n",
    "print(\"Probability of 10 application in one minute= \",round(PA,3))\n",
    "PB=poisson.pmf(k=17, mu=7.5)\n",
    "print(\"Probability of getting atleast 17 application in two minute= \",round(PB,3))"
   ]
  },
  {
   "cell_type": "markdown",
   "id": "ca73ea6b",
   "metadata": {},
   "source": [
    "<h3>QUESTION 5</h3>"
   ]
  },
  {
   "cell_type": "code",
   "execution_count": null,
   "id": "878e4dcc",
   "metadata": {},
   "outputs": [],
   "source": []
  },
  {
   "cell_type": "markdown",
   "id": "3308d313",
   "metadata": {},
   "source": [
    "<h3>QUESTION 6</h3>"
   ]
  },
  {
   "cell_type": "markdown",
   "id": "f529156d",
   "metadata": {},
   "source": [
    "Given:<br>\n",
    "    Mean, μ= $ 350870 <br>\n",
    "    Standard deviation, σ= $ 12405 <br>\n",
    "Solution:<br>\n",
    "    75th percentile of prices = Q3 = μ + (.675)σ<br>\n",
    "                                   = 350870 + (0.675*12405)<br>\n",
    "                                   = $ 359243.375 <br>"
   ]
  },
  {
   "cell_type": "markdown",
   "id": "4d057320",
   "metadata": {},
   "source": [
    "<h3>QUESTION 7</h3>"
   ]
  },
  {
   "cell_type": "code",
   "execution_count": 14,
   "id": "778d5a61",
   "metadata": {},
   "outputs": [
    {
     "data": {
      "text/plain": [
       "(0.9921235138705414, 0.5051139397884965)"
      ]
     },
     "execution_count": 14,
     "metadata": {},
     "output_type": "execute_result"
    }
   ],
   "source": [
    "UnionCity=[44,21,36,34,77,32,29,39,92,67,45,37]\n",
    "MountainView=[47,81,41,79,38,20,33,83,41,40,69,36]\n",
    "import numpy as np\n",
    "import scipy\n",
    "def f_test(x,y):\n",
    "    x = np.array(UnionCity)\n",
    "    y = np.array(MountainView)\n",
    "    f = np.var(x, ddof=1)/np.var(y, ddof=1) #calculate F test statistic \n",
    "    dfn = x.size-1 #define degrees of freedom numerator \n",
    "    dfd = y.size-1 #define degrees of freedom denominator \n",
    "    p = 1-scipy.stats.f.cdf(f, dfn, dfd) #find p-value of F test statistic \n",
    "    return f, p\n",
    "\n",
    "#perform F-test\n",
    "f_test(UnionCity, MountainView)"
   ]
  },
  {
   "cell_type": "markdown",
   "id": "2647c36d",
   "metadata": {},
   "source": [
    "<h3>QUESTION 9</h3>"
   ]
  },
  {
   "cell_type": "code",
   "execution_count": 6,
   "id": "651ed6ab",
   "metadata": {},
   "outputs": [
    {
     "name": "stdout",
     "output_type": "stream",
     "text": [
      "Probability of that the number of pizza sales exceeds 80 in a day: 0.040177141568228006\n"
     ]
    }
   ],
   "source": [
    "from scipy.stats import poisson\n",
    "probability=poisson.pmf(k=80,mu=76)\n",
    "print(\"Probability of that the number of pizza sales exceeds 80 in a day:)"
   ]
  },
  {
   "cell_type": "markdown",
   "id": "067d5cd3",
   "metadata": {},
   "source": [
    "<h3>QUESTION 10</h3>"
   ]
  },
  {
   "cell_type": "code",
   "execution_count": 4,
   "id": "224d7cd1",
   "metadata": {},
   "outputs": [
    {
     "name": "stdout",
     "output_type": "stream",
     "text": [
      "3.25 1.7108820799094275 0.0034019694897433617\n"
     ]
    }
   ],
   "source": [
    "import numpy as np\n",
    "from scipy import stats\n",
    "se = 20 / np.sqrt(25)\n",
    "t_stat = (95 - 82) / se\n",
    "df = 25 - 1\n",
    "# calculate the critical value\n",
    "critical =stats.t.ppf(1.0 - 0.05, df)\n",
    "p = (1.0 - stats.t.cdf(abs(t_stat), df)) * 2.0\n",
    "print(t_stat,critical,p)"
   ]
  },
  {
   "cell_type": "markdown",
   "id": "d8ddcbe6",
   "metadata": {},
   "source": [
    "<h6>P value is less than alpha(0.05) so rejecting the null hypothesis. Thus it does not have any effect at all</h6>"
   ]
  }
 ],
 "metadata": {
  "kernelspec": {
   "display_name": "Python 3 (ipykernel)",
   "language": "python",
   "name": "python3"
  },
  "language_info": {
   "codemirror_mode": {
    "name": "ipython",
    "version": 3
   },
   "file_extension": ".py",
   "mimetype": "text/x-python",
   "name": "python",
   "nbconvert_exporter": "python",
   "pygments_lexer": "ipython3",
   "version": "3.9.7"
  }
 },
 "nbformat": 4,
 "nbformat_minor": 5
}
